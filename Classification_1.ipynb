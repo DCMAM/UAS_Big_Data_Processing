{
  "nbformat": 4,
  "nbformat_minor": 0,
  "metadata": {
    "colab": {
      "name": "2301932172.ipynb",
      "provenance": [],
      "collapsed_sections": []
    },
    "kernelspec": {
      "name": "python3",
      "display_name": "Python 3"
    },
    "language_info": {
      "name": "python"
    }
  },
  "cells": [
    {
      "cell_type": "code",
      "metadata": {
        "id": "mBESQ0cTex9D"
      },
      "source": [
        "## INSTALL SPARK\n",
        "\n",
        "!apt-get clean\n",
        "!rm -rf /var/lib/apt/lists/*\n",
        "!apt-get update\n",
        "!apt-get upgrade\n",
        "\n",
        "# innstall java\n",
        "!apt-get install openjdk-8-jdk-headless -qq > /dev/null\n",
        "\n",
        "# install spark (change the version number if needed)\n",
        "!wget -q https://archive.apache.org/dist/spark/spark-3.0.0/spark-3.0.0-bin-hadoop3.2.tgz\n",
        "\n",
        "# unzip the spark file to the current folder\n",
        "!tar xf spark-3.0.0-bin-hadoop3.2.tgz\n",
        "\n",
        "# set your spark folder to your system path environment. \n",
        "import os\n",
        "os.environ[\"JAVA_HOME\"] = \"/usr/lib/jvm/java-8-openjdk-amd64\"\n",
        "os.environ[\"SPARK_HOME\"] = \"/content/spark-3.0.0-bin-hadoop3.2\"\n",
        "\n",
        "\n",
        "# install findspark using pip\n",
        "!pip install -q findspark\n",
        "\n",
        "import findspark\n",
        "findspark.init()"
      ],
      "execution_count": null,
      "outputs": []
    },
    {
      "cell_type": "code",
      "metadata": {
        "id": "U6UBKvvO2QBp"
      },
      "source": [
        "from pyspark.sql import SparkSession\n",
        "\n",
        "# 1. load data\n",
        "spark = SparkSession.builder.getOrCreate()\n",
        "\n",
        "df_train = spark.read.option(\"inferSchema\", \"true\").csv(\"sample_data/Training.csv\", header=True)\n",
        "df_test = spark.read.option(\"inferSchema\", \"true\").csv(\"sample_data/Testing.csv\", header=True)"
      ],
      "execution_count": 97,
      "outputs": []
    },
    {
      "cell_type": "code",
      "metadata": {
        "colab": {
          "base_uri": "https://localhost:8080/"
        },
        "id": "HMuT6zcb-jno",
        "outputId": "8d4025e2-5504-4c51-82c1-7b8572132e80"
      },
      "source": [
        "df_train.show()"
      ],
      "execution_count": 98,
      "outputs": [
        {
          "output_type": "stream",
          "text": [
            "+-----------+----------+------------+------+--------+-----------+-----+---------+\n",
            "|CapDiameter|StemHeight|StemDiameter|Spores|BlackDot|  Accessory|Color|Poisonous|\n",
            "+-----------+----------+------------+------+--------+-----------+-----+---------+\n",
            "|      17880|     11540|        7849|  High|       6|White Gills|  Red|        1|\n",
            "|       9320|      9305|       15931|  High|       5|       None|Brown|        0|\n",
            "|      12638|      1471|        2925|   Low|       4|       None|Brown|        0|\n",
            "|      13513|      6894|       16852|  High|       3|       None|White|        0|\n",
            "|       4838|      2979|       17055|Medium|       3|White Gills|  Red|        1|\n",
            "|       7409|      1568|       17718|  High|       0|       None|Brown|        0|\n",
            "|      14691|      1381|       12840|  High|       1|       None|Brown|        0|\n",
            "|      13623|      4617|        4983|   Low|       8|White Gills|  Red|        1|\n",
            "|       9524|      7680|       10188|   Low|       8|White Gills|Brown|        1|\n",
            "|      12209|      3422|        7472|   Low|       4|       null|  Red|        1|\n",
            "|      13956|      8875|        5069|Medium|       6|       Ring|  Red|        1|\n",
            "|      12275|      5217|       13225|  High|       4|       None|  Red|        0|\n",
            "|       9878|      3712|       10602|   Low|       5|White Gills|  Red|        1|\n",
            "|      17116|      4539|       11613|  High|       2|       None|Brown|        0|\n",
            "|       9549|      1953|       17273|   Low|       4|White Gills| null|        1|\n",
            "|      10089|      4186|        3117|  High|       8|White Gills|White|        0|\n",
            "|       8208|      2848|        6990|   Low|       7|White Gills|White|        0|\n",
            "|      13461|     10841|        1821|   Low|       7|White Gills|White|        1|\n",
            "|       9249|      3910|       11261|  High|       6|White Gills|  Red|        1|\n",
            "|      10408|      8225|       16780|  High|       2|       None| null|        0|\n",
            "+-----------+----------+------------+------+--------+-----------+-----+---------+\n",
            "only showing top 20 rows\n",
            "\n"
          ],
          "name": "stdout"
        }
      ]
    },
    {
      "cell_type": "code",
      "metadata": {
        "colab": {
          "base_uri": "https://localhost:8080/"
        },
        "id": "hGbd7oj9-lND",
        "outputId": "b705ff53-c3c2-4044-d2b3-3b297bd0af75"
      },
      "source": [
        "df_test.show()"
      ],
      "execution_count": 99,
      "outputs": [
        {
          "output_type": "stream",
          "text": [
            "+-----------+----------+------------+------+--------+-----------+-----+---------+\n",
            "|CapDiameter|StemHeight|StemDiameter|Spores|BlackDot|  Accessory|Color|Poisonous|\n",
            "+-----------+----------+------------+------+--------+-----------+-----+---------+\n",
            "|       7219|       477|        1513|   Low|       5|       None|Brown|        0|\n",
            "|       4396|       689|         977|   Low|       4|       None|Brown|        0|\n",
            "|       2575|       598|        1468|   Low|       1|       Ring|  Red|        0|\n",
            "|       1931|      1701|         644|   Low|       4|White Gills|Brown|        0|\n",
            "|       4465|      1087|         158|   Low|       5|       Ring|Brown|        0|\n",
            "|       8445|      1364|         603|   Low|       6|       None|White|        0|\n",
            "|       8612|       998|         534|Medium|       3|       None|Brown|        0|\n",
            "|       3038|       326|        1532|   Low|       4|       None|Brown|        0|\n",
            "|       3015|       828|        1268|Medium|       5|       None|Brown|        0|\n",
            "|       3731|       749|         333|   Low|       7|White Gills|  Red|        0|\n",
            "|       8161|      1506|         650|Medium|       3|White Gills|  Red|        1|\n",
            "|       6055|      1143|        1146|   Low|       6|White Gills|  Red|        1|\n",
            "|       8425|       997|         519|Medium|       3|       None|Brown|        0|\n",
            "|       9986|       907|        1096|  High|       2|White Gills|  Red|        1|\n",
            "|       5514|       981|        1859|  High|       8|White Gills|Brown|        0|\n",
            "|       5458|       482|         663|Medium|       1|White Gills|  Red|        1|\n",
            "|       4592|       496|         760|   Low|       8|       None|White|        0|\n",
            "|       3425|       886|        1788|  High|       7|White Gills|Brown|        0|\n",
            "|       3900|       416|        1253|Medium|       8|       None|White|        0|\n",
            "|       5558|      1013|        1771|   Low|       5|       null|  Red|        1|\n",
            "+-----------+----------+------------+------+--------+-----------+-----+---------+\n",
            "only showing top 20 rows\n",
            "\n"
          ],
          "name": "stdout"
        }
      ]
    },
    {
      "cell_type": "code",
      "metadata": {
        "id": "M_VR2t2c-on2"
      },
      "source": [
        "# 2. Select Features\n",
        "df_train = df_train.select(\"Spores\", \"Accessory\", \"color\", \"Poisonous\")\n",
        "df_test = df_train.select(\"Spores\", \"Accessory\", \"color\", \"Poisonous\")"
      ],
      "execution_count": 100,
      "outputs": []
    },
    {
      "cell_type": "code",
      "metadata": {
        "id": "7cyednxtBlCz"
      },
      "source": [
        "from pyspark.sql.functions import when\n",
        "from pyspark.ml.feature import VectorAssembler, StandardScaler\n",
        "\n",
        "# 3. Preprocessing\n",
        "def preprocessing(data):\n",
        "  # 3. remove missing values\n",
        "  data = data.na.drop()\n",
        "\n",
        "  # 4. Transform Data\n",
        "  data = data.withColumn(\"Spores\", when(data['Spores'] == \"Low\", 0).when(data['Spores'] == \"Medium\", 1).otherwise(2))\n",
        "  data = data.withColumn(\"Accessory\", when(data['Accessory'] == \"White Gills\", 1).when(data['Accessory'] == \"Ring\", 2).otherwise(0))\n",
        "  data = data.withColumn(\"color\", when(data['color'] == \"White\", 0).when(data['color'] == \"Brown\", 1).otherwise(2))\n",
        "\n",
        "  # 5. Normalization\n",
        "  cols = data.columns\n",
        "  cols.remove(\"Poisonous\")\n",
        "  data = VectorAssembler(inputCols = cols, outputCol=\"Features\").transform(data)\n",
        "\n",
        "  scaler = StandardScaler(inputCol = \"Features\", outputCol=\"Scaled_Features\")\n",
        "  data = scaler.fit(data).transform(data)\n",
        "\n",
        "  return data"
      ],
      "execution_count": 101,
      "outputs": []
    },
    {
      "cell_type": "code",
      "metadata": {
        "id": "AuCtnIF7CUpA"
      },
      "source": [
        "df_train = preprocessing(df_train)"
      ],
      "execution_count": 102,
      "outputs": []
    },
    {
      "cell_type": "code",
      "metadata": {
        "id": "HIkQWC2ECfYE"
      },
      "source": [
        "df_test = preprocessing(df_test)"
      ],
      "execution_count": 103,
      "outputs": []
    },
    {
      "cell_type": "code",
      "metadata": {
        "colab": {
          "base_uri": "https://localhost:8080/"
        },
        "id": "Uz70gKgaCfvv",
        "outputId": "62b302f0-1150-4da2-a3d8-7a8fe0655ec9"
      },
      "source": [
        "df_train.show()"
      ],
      "execution_count": 104,
      "outputs": [
        {
          "output_type": "stream",
          "text": [
            "+------+---------+-----+---------+-------------+--------------------+\n",
            "|Spores|Accessory|color|Poisonous|     Features|     Scaled_Features|\n",
            "+------+---------+-----+---------+-------------+--------------------+\n",
            "|     2|        1|    2|        1|[2.0,1.0,2.0]|[2.23321947561635...|\n",
            "|     2|        0|    1|        0|[2.0,0.0,1.0]|[2.23321947561635...|\n",
            "|     0|        0|    1|        0|[0.0,0.0,1.0]|[0.0,0.0,1.425022...|\n",
            "|     2|        0|    0|        0|[2.0,0.0,0.0]|[2.23321947561635...|\n",
            "|     1|        1|    2|        1|[1.0,1.0,2.0]|[1.11660973780817...|\n",
            "|     2|        0|    1|        0|[2.0,0.0,1.0]|[2.23321947561635...|\n",
            "|     2|        0|    1|        0|[2.0,0.0,1.0]|[2.23321947561635...|\n",
            "|     0|        1|    2|        1|[0.0,1.0,2.0]|[0.0,1.4666842005...|\n",
            "|     0|        1|    1|        1|[0.0,1.0,1.0]|[0.0,1.4666842005...|\n",
            "|     1|        2|    2|        1|[1.0,2.0,2.0]|[1.11660973780817...|\n",
            "|     2|        0|    2|        0|[2.0,0.0,2.0]|[2.23321947561635...|\n",
            "|     0|        1|    2|        1|[0.0,1.0,2.0]|[0.0,1.4666842005...|\n",
            "|     2|        0|    1|        0|[2.0,0.0,1.0]|[2.23321947561635...|\n",
            "|     2|        1|    0|        0|[2.0,1.0,0.0]|[2.23321947561635...|\n",
            "|     0|        1|    0|        0|[0.0,1.0,0.0]|[0.0,1.4666842005...|\n",
            "|     0|        1|    0|        1|[0.0,1.0,0.0]|[0.0,1.4666842005...|\n",
            "|     2|        1|    2|        1|[2.0,1.0,2.0]|[2.23321947561635...|\n",
            "|     1|        1|    2|        1|[1.0,1.0,2.0]|[1.11660973780817...|\n",
            "|     2|        1|    0|        0|[2.0,1.0,0.0]|[2.23321947561635...|\n",
            "|     2|        1|    2|        1|[2.0,1.0,2.0]|[2.23321947561635...|\n",
            "+------+---------+-----+---------+-------------+--------------------+\n",
            "only showing top 20 rows\n",
            "\n"
          ],
          "name": "stdout"
        }
      ]
    },
    {
      "cell_type": "code",
      "metadata": {
        "colab": {
          "base_uri": "https://localhost:8080/"
        },
        "id": "zngb9vcVCklI",
        "outputId": "99c6ce71-ae2b-4907-86ca-ed53a15c8223"
      },
      "source": [
        "df_test.show()"
      ],
      "execution_count": 105,
      "outputs": [
        {
          "output_type": "stream",
          "text": [
            "+------+---------+-----+---------+-------------+--------------------+\n",
            "|Spores|Accessory|color|Poisonous|     Features|     Scaled_Features|\n",
            "+------+---------+-----+---------+-------------+--------------------+\n",
            "|     2|        1|    2|        1|[2.0,1.0,2.0]|[2.23321947561635...|\n",
            "|     2|        0|    1|        0|[2.0,0.0,1.0]|[2.23321947561635...|\n",
            "|     0|        0|    1|        0|[0.0,0.0,1.0]|[0.0,0.0,1.425022...|\n",
            "|     2|        0|    0|        0|[2.0,0.0,0.0]|[2.23321947561635...|\n",
            "|     1|        1|    2|        1|[1.0,1.0,2.0]|[1.11660973780817...|\n",
            "|     2|        0|    1|        0|[2.0,0.0,1.0]|[2.23321947561635...|\n",
            "|     2|        0|    1|        0|[2.0,0.0,1.0]|[2.23321947561635...|\n",
            "|     0|        1|    2|        1|[0.0,1.0,2.0]|[0.0,1.4666842005...|\n",
            "|     0|        1|    1|        1|[0.0,1.0,1.0]|[0.0,1.4666842005...|\n",
            "|     1|        2|    2|        1|[1.0,2.0,2.0]|[1.11660973780817...|\n",
            "|     2|        0|    2|        0|[2.0,0.0,2.0]|[2.23321947561635...|\n",
            "|     0|        1|    2|        1|[0.0,1.0,2.0]|[0.0,1.4666842005...|\n",
            "|     2|        0|    1|        0|[2.0,0.0,1.0]|[2.23321947561635...|\n",
            "|     2|        1|    0|        0|[2.0,1.0,0.0]|[2.23321947561635...|\n",
            "|     0|        1|    0|        0|[0.0,1.0,0.0]|[0.0,1.4666842005...|\n",
            "|     0|        1|    0|        1|[0.0,1.0,0.0]|[0.0,1.4666842005...|\n",
            "|     2|        1|    2|        1|[2.0,1.0,2.0]|[2.23321947561635...|\n",
            "|     1|        1|    2|        1|[1.0,1.0,2.0]|[1.11660973780817...|\n",
            "|     2|        1|    0|        0|[2.0,1.0,0.0]|[2.23321947561635...|\n",
            "|     2|        1|    2|        1|[2.0,1.0,2.0]|[2.23321947561635...|\n",
            "+------+---------+-----+---------+-------------+--------------------+\n",
            "only showing top 20 rows\n",
            "\n"
          ],
          "name": "stdout"
        }
      ]
    },
    {
      "cell_type": "code",
      "metadata": {
        "id": "V-ZUCHM2CoY5"
      },
      "source": [
        "from pyspark.ml.classification import LogisticRegression\n",
        "from pyspark.ml.evaluation import BinaryClassificationEvaluator\n",
        "\n",
        "# 6. Generate Model\n",
        "model = LogisticRegression(featuresCol=\"Scaled_Features\", labelCol=\"Poisonous\", maxIter=10).fit(df_train)\n",
        "prediction = model.transform(df_test)\n",
        "\n",
        "# transform df_train pasti lebih gede akurasinya karena udah pernah di pelajari"
      ],
      "execution_count": 106,
      "outputs": []
    },
    {
      "cell_type": "code",
      "metadata": {
        "colab": {
          "base_uri": "https://localhost:8080/"
        },
        "id": "9A6TH62cC24y",
        "outputId": "7dbbb90b-f4be-4767-970f-718fce0bf281"
      },
      "source": [
        "prediction.show()"
      ],
      "execution_count": 107,
      "outputs": [
        {
          "output_type": "stream",
          "text": [
            "+------+---------+-----+---------+-------------+--------------------+--------------------+--------------------+----------+\n",
            "|Spores|Accessory|color|Poisonous|     Features|     Scaled_Features|       rawPrediction|         probability|prediction|\n",
            "+------+---------+-----+---------+-------------+--------------------+--------------------+--------------------+----------+\n",
            "|     2|        1|    2|        1|[2.0,1.0,2.0]|[2.23321947561635...|[-0.3317139036092...|[0.41782366253835...|       1.0|\n",
            "|     2|        0|    1|        0|[2.0,0.0,1.0]|[2.23321947561635...|[2.72488650084214...|[0.93847926565163...|       0.0|\n",
            "|     0|        0|    1|        0|[0.0,0.0,1.0]|[0.0,0.0,1.425022...|[0.59964515183811...|[0.64557511836318...|       0.0|\n",
            "|     2|        0|    0|        0|[2.0,0.0,0.0]|[2.23321947561635...|[4.74385627470264...|[0.99137011083530...|       0.0|\n",
            "|     1|        1|    2|        1|[1.0,1.0,2.0]|[1.11660973780817...|[-1.3943345781112...|[0.19871666767591...|       1.0|\n",
            "|     2|        0|    1|        0|[2.0,0.0,1.0]|[2.23321947561635...|[2.72488650084214...|[0.93847926565163...|       0.0|\n",
            "|     2|        0|    1|        0|[2.0,0.0,1.0]|[2.23321947561635...|[2.72488650084214...|[0.93847926565163...|       0.0|\n",
            "|     0|        1|    2|        1|[0.0,1.0,2.0]|[0.0,1.4666842005...|[-2.4569552526132...|[0.07893141049267...|       1.0|\n",
            "|     0|        1|    1|        1|[0.0,1.0,1.0]|[0.0,1.4666842005...|[-0.4379854787527...|[0.39222109388860...|       1.0|\n",
            "|     1|        2|    2|        1|[1.0,2.0,2.0]|[1.11660973780817...|[-2.4319652087021...|[0.08076744187804...|       1.0|\n",
            "|     2|        0|    2|        0|[2.0,0.0,2.0]|[2.23321947561635...|[0.70591672698165...|[0.66949827877180...|       0.0|\n",
            "|     0|        1|    2|        1|[0.0,1.0,2.0]|[0.0,1.4666842005...|[-2.4569552526132...|[0.07893141049267...|       1.0|\n",
            "|     2|        0|    1|        0|[2.0,0.0,1.0]|[2.23321947561635...|[2.72488650084214...|[0.93847926565163...|       0.0|\n",
            "|     2|        1|    0|        0|[2.0,1.0,0.0]|[2.23321947561635...|[3.70622564411176...|[0.97601912734708...|       0.0|\n",
            "|     0|        1|    0|        0|[0.0,1.0,0.0]|[0.0,1.4666842005...|[1.58098429510773...|[0.82934387300018...|       0.0|\n",
            "|     0|        1|    0|        1|[0.0,1.0,0.0]|[0.0,1.4666842005...|[1.58098429510773...|[0.82934387300018...|       0.0|\n",
            "|     2|        1|    2|        1|[2.0,1.0,2.0]|[2.23321947561635...|[-0.3317139036092...|[0.41782366253835...|       1.0|\n",
            "|     1|        1|    2|        1|[1.0,1.0,2.0]|[1.11660973780817...|[-1.3943345781112...|[0.19871666767591...|       1.0|\n",
            "|     2|        1|    0|        0|[2.0,1.0,0.0]|[2.23321947561635...|[3.70622564411176...|[0.97601912734708...|       0.0|\n",
            "|     2|        1|    2|        1|[2.0,1.0,2.0]|[2.23321947561635...|[-0.3317139036092...|[0.41782366253835...|       1.0|\n",
            "+------+---------+-----+---------+-------------+--------------------+--------------------+--------------------+----------+\n",
            "only showing top 20 rows\n",
            "\n"
          ],
          "name": "stdout"
        }
      ]
    },
    {
      "cell_type": "code",
      "metadata": {
        "colab": {
          "base_uri": "https://localhost:8080/"
        },
        "id": "XLvMWlWiC4z1",
        "outputId": "9e0046fe-4b9a-4c52-9c68-3676410836e1"
      },
      "source": [
        "# 7. model testing and evaluation\n",
        "\n",
        "# evaluator = BinaryClassificationEvaluator(rawPredictionCol=\"rawPrediction\", labelCol=\"Poisonous\")\n",
        "evaluator = BinaryClassificationEvaluator(rawPredictionCol=\"prediction\", labelCol=\"Poisonous\")\n",
        "\n",
        "print(\"Accuracy: {}\".format(evaluator.evaluate(prediction)))"
      ],
      "execution_count": 108,
      "outputs": [
        {
          "output_type": "stream",
          "text": [
            "Accuracy: 0.8514811871750675\n"
          ],
          "name": "stdout"
        }
      ]
    }
  ]
}